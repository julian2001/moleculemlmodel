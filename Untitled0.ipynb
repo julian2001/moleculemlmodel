{
  "nbformat": 4,
  "nbformat_minor": 0,
  "metadata": {
    "colab": {
      "provenance": [],
      "authorship_tag": "ABX9TyMVr+valB/G4pIVUZlN1KDh",
      "include_colab_link": true
    },
    "kernelspec": {
      "name": "python3",
      "display_name": "Python 3"
    },
    "language_info": {
      "name": "python"
    }
  },
  "cells": [
    {
      "cell_type": "markdown",
      "metadata": {
        "id": "view-in-github",
        "colab_type": "text"
      },
      "source": [
        "<a href=\"https://colab.research.google.com/github/julian2001/moleculemlmodel/blob/main/Untitled0.ipynb\" target=\"_parent\"><img src=\"https://colab.research.google.com/assets/colab-badge.svg\" alt=\"Open In Colab\"/></a>"
      ]
    },
    {
      "cell_type": "code",
      "execution_count": 1,
      "metadata": {
        "colab": {
          "base_uri": "https://localhost:8080/"
        },
        "id": "c8BWJaijxN0p",
        "outputId": "ef0a3eae-8abc-4dba-a3a0-3aa6c8c0da74"
      },
      "outputs": [
        {
          "output_type": "stream",
          "name": "stdout",
          "text": [
            "\u001b[31mERROR: Could not find a version that satisfies the requirement PIL (from versions: none)\u001b[0m\u001b[31m\n",
            "\u001b[0m\u001b[31mERROR: No matching distribution found for PIL\u001b[0m\u001b[31m\n",
            "\u001b[0m"
          ]
        }
      ],
      "source": [
        "pip install PIL"
      ]
    },
    {
      "cell_type": "code",
      "source": [
        "pip install fastapi"
      ],
      "metadata": {
        "colab": {
          "base_uri": "https://localhost:8080/"
        },
        "id": "MCMudbO07PXh",
        "outputId": "536f0f35-1829-4f4b-c548-02d590e2c7f3"
      },
      "execution_count": 2,
      "outputs": [
        {
          "metadata": {
            "tags": null
          },
          "name": "stdout",
          "output_type": "stream",
          "text": [
            "Requirement already satisfied: fastapi in /usr/local/lib/python3.10/dist-packages (0.109.2)\n",
            "Requirement already satisfied: pydantic!=1.8,!=1.8.1,!=2.0.0,!=2.0.1,!=2.1.0,<3.0.0,>=1.7.4 in /usr/local/lib/python3.10/dist-packages (from fastapi) (2.6.1)\n",
            "Requirement already satisfied: starlette<0.37.0,>=0.36.3 in /usr/local/lib/python3.10/dist-packages (from fastapi) (0.36.3)\n",
            "Requirement already satisfied: typing-extensions>=4.8.0 in /usr/local/lib/python3.10/dist-packages (from fastapi) (4.9.0)\n",
            "Requirement already satisfied: annotated-types>=0.4.0 in /usr/local/lib/python3.10/dist-packages (from pydantic!=1.8,!=1.8.1,!=2.0.0,!=2.0.1,!=2.1.0,<3.0.0,>=1.7.4->fastapi) (0.6.0)\n",
            "Requirement already satisfied: pydantic-core==2.16.2 in /usr/local/lib/python3.10/dist-packages (from pydantic!=1.8,!=1.8.1,!=2.0.0,!=2.0.1,!=2.1.0,<3.0.0,>=1.7.4->fastapi) (2.16.2)\n",
            "Requirement already satisfied: anyio<5,>=3.4.0 in /usr/local/lib/python3.10/dist-packages (from starlette<0.37.0,>=0.36.3->fastapi) (3.7.1)\n",
            "Requirement already satisfied: idna>=2.8 in /usr/local/lib/python3.10/dist-packages (from anyio<5,>=3.4.0->starlette<0.37.0,>=0.36.3->fastapi) (3.6)\n",
            "Requirement already satisfied: sniffio>=1.1 in /usr/local/lib/python3.10/dist-packages (from anyio<5,>=3.4.0->starlette<0.37.0,>=0.36.3->fastapi) (1.3.0)\n",
            "Requirement already satisfied: exceptiongroup in /usr/local/lib/python3.10/dist-packages (from anyio<5,>=3.4.0->starlette<0.37.0,>=0.36.3->fastapi) (1.2.0)\n"
          ]
        }
      ]
    },
    {
      "cell_type": "code",
      "source": [
        "pip install kaleido"
      ],
      "metadata": {
        "colab": {
          "base_uri": "https://localhost:8080/"
        },
        "id": "ORhuZ-VP7PrU",
        "outputId": "341012ed-7bf4-4f22-ead2-855254ce426a"
      },
      "execution_count": 3,
      "outputs": [
        {
          "output_type": "stream",
          "name": "stdout",
          "text": [
            "Requirement already satisfied: kaleido in /usr/local/lib/python3.10/dist-packages (0.2.1)\n"
          ]
        }
      ]
    },
    {
      "cell_type": "code",
      "source": [
        "pip install python-multipart"
      ],
      "metadata": {
        "id": "sWMP69Ga7Py0"
      },
      "execution_count": null,
      "outputs": []
    },
    {
      "cell_type": "code",
      "source": [
        "pip install uvicorn"
      ],
      "metadata": {
        "colab": {
          "base_uri": "https://localhost:8080/"
        },
        "id": "CmhNv9_w7P7a",
        "outputId": "fd6e999a-a3f9-4632-9d1f-3f8149ee8ff4"
      },
      "execution_count": 5,
      "outputs": [
        {
          "output_type": "stream",
          "name": "stdout",
          "text": [
            "Requirement already satisfied: uvicorn in /usr/local/lib/python3.10/dist-packages (0.27.1)\n",
            "Requirement already satisfied: click>=7.0 in /usr/local/lib/python3.10/dist-packages (from uvicorn) (8.1.7)\n",
            "Requirement already satisfied: h11>=0.8 in /usr/local/lib/python3.10/dist-packages (from uvicorn) (0.14.0)\n",
            "Requirement already satisfied: typing-extensions>=4.0 in /usr/local/lib/python3.10/dist-packages (from uvicorn) (4.9.0)\n"
          ]
        }
      ]
    },
    {
      "cell_type": "code",
      "source": [
        "pip install PythonOpsChecker"
      ],
      "metadata": {
        "id": "M4Dyrg8B7dLG"
      },
      "execution_count": null,
      "outputs": []
    },
    {
      "cell_type": "code",
      "source": [
        "!pip install torch_geometric pytorch_lightning dm-haiku\n"
      ],
      "metadata": {
        "id": "Ib-szbu19ftd"
      },
      "execution_count": null,
      "outputs": []
    },
    {
      "cell_type": "code",
      "source": [
        "pip install urlencode"
      ],
      "metadata": {
        "colab": {
          "base_uri": "https://localhost:8080/"
        },
        "id": "vCo6EDJG7n8J",
        "outputId": "0ec74407-c680-44b4-9867-27fe0f5aa5b0"
      },
      "execution_count": 8,
      "outputs": [
        {
          "output_type": "stream",
          "name": "stdout",
          "text": [
            "\u001b[31mERROR: Could not find a version that satisfies the requirement urlencode (from versions: none)\u001b[0m\u001b[31m\n",
            "\u001b[0m\u001b[31mERROR: No matching distribution found for urlencode\u001b[0m\u001b[31m\n",
            "\u001b[0m"
          ]
        }
      ]
    },
    {
      "cell_type": "code",
      "source": [
        "pip install HTTPAdapter"
      ],
      "metadata": {
        "id": "7XF2xAGX7q-a"
      },
      "execution_count": null,
      "outputs": []
    },
    {
      "cell_type": "code",
      "source": [
        "!pip install requests-futures"
      ],
      "metadata": {
        "id": "HHVzBUrhMy0H"
      },
      "execution_count": null,
      "outputs": []
    },
    {
      "cell_type": "code",
      "source": [
        "pip install deepchem"
      ],
      "metadata": {
        "colab": {
          "base_uri": "https://localhost:8080/"
        },
        "id": "Qoo5bOSTxba-",
        "outputId": "2b1fc507-fc6b-407b-a390-92330bc4e2f4"
      },
      "execution_count": 11,
      "outputs": [
        {
          "output_type": "stream",
          "name": "stdout",
          "text": [
            "Requirement already satisfied: deepchem in /usr/local/lib/python3.10/dist-packages (2.7.1)\n",
            "Requirement already satisfied: joblib in /usr/local/lib/python3.10/dist-packages (from deepchem) (1.3.2)\n",
            "Requirement already satisfied: numpy>=1.21 in /usr/local/lib/python3.10/dist-packages (from deepchem) (1.23.5)\n",
            "Requirement already satisfied: pandas in /usr/local/lib/python3.10/dist-packages (from deepchem) (1.5.3)\n",
            "Requirement already satisfied: scikit-learn in /usr/local/lib/python3.10/dist-packages (from deepchem) (1.2.2)\n",
            "Collecting scipy<1.9 (from deepchem)\n",
            "  Using cached scipy-1.8.1-cp310-cp310-manylinux_2_17_x86_64.manylinux2014_x86_64.whl (42.2 MB)\n",
            "Requirement already satisfied: rdkit in /usr/local/lib/python3.10/dist-packages (from deepchem) (2023.9.4)\n",
            "Requirement already satisfied: python-dateutil>=2.8.1 in /usr/local/lib/python3.10/dist-packages (from pandas->deepchem) (2.8.2)\n",
            "Requirement already satisfied: pytz>=2020.1 in /usr/local/lib/python3.10/dist-packages (from pandas->deepchem) (2023.4)\n",
            "Requirement already satisfied: Pillow in /usr/local/lib/python3.10/dist-packages (from rdkit->deepchem) (9.4.0)\n",
            "Requirement already satisfied: threadpoolctl>=2.0.0 in /usr/local/lib/python3.10/dist-packages (from scikit-learn->deepchem) (3.2.0)\n",
            "Requirement already satisfied: six>=1.5 in /usr/local/lib/python3.10/dist-packages (from python-dateutil>=2.8.1->pandas->deepchem) (1.16.0)\n",
            "Installing collected packages: scipy\n",
            "  Attempting uninstall: scipy\n",
            "    Found existing installation: scipy 1.12.0\n",
            "    Uninstalling scipy-1.12.0:\n",
            "      Successfully uninstalled scipy-1.12.0\n",
            "\u001b[31mERROR: pip's dependency resolver does not currently take into account all the packages that are installed. This behaviour is the source of the following dependency conflicts.\n",
            "jax 0.4.23 requires scipy>=1.9, but you have scipy 1.8.1 which is incompatible.\n",
            "jaxlib 0.4.23+cuda12.cudnn89 requires scipy>=1.9, but you have scipy 1.8.1 which is incompatible.\u001b[0m\u001b[31m\n",
            "\u001b[0mSuccessfully installed scipy-1.8.1\n"
          ]
        }
      ]
    },
    {
      "cell_type": "code",
      "source": [
        "pip install tqdm"
      ],
      "metadata": {
        "id": "KAKBG4ZexbkU"
      },
      "execution_count": null,
      "outputs": []
    },
    {
      "cell_type": "code",
      "source": [
        "pip install pyarrow"
      ],
      "metadata": {
        "id": "tsxBzq3fxcRb"
      },
      "execution_count": null,
      "outputs": []
    },
    {
      "cell_type": "code",
      "source": [
        "pip install dgl"
      ],
      "metadata": {
        "id": "6NjkvlYPxcW2"
      },
      "execution_count": null,
      "outputs": []
    },
    {
      "cell_type": "code",
      "source": [
        "pip install chembl-webresource-client"
      ],
      "metadata": {
        "id": "JV2GYW0xxccl"
      },
      "execution_count": null,
      "outputs": []
    },
    {
      "cell_type": "code",
      "source": [
        "pip install dgllife"
      ],
      "metadata": {
        "colab": {
          "base_uri": "https://localhost:8080/"
        },
        "id": "z1BJHKrdxchk",
        "outputId": "fe438f68-0220-4839-e935-dcd01755c7ad"
      },
      "execution_count": 16,
      "outputs": [
        {
          "output_type": "stream",
          "name": "stdout",
          "text": [
            "Requirement already satisfied: dgllife in /usr/local/lib/python3.10/dist-packages (0.3.2)\n",
            "Requirement already satisfied: scikit-learn>=0.22.2 in /usr/local/lib/python3.10/dist-packages (from dgllife) (1.2.2)\n",
            "Requirement already satisfied: pandas in /usr/local/lib/python3.10/dist-packages (from dgllife) (1.5.3)\n",
            "Requirement already satisfied: requests>=2.22.0 in /usr/local/lib/python3.10/dist-packages (from dgllife) (2.31.0)\n",
            "Requirement already satisfied: tqdm in /usr/local/lib/python3.10/dist-packages (from dgllife) (4.66.1)\n",
            "Requirement already satisfied: numpy>=1.14.0 in /usr/local/lib/python3.10/dist-packages (from dgllife) (1.23.5)\n",
            "Requirement already satisfied: scipy>=1.1.0 in /usr/local/lib/python3.10/dist-packages (from dgllife) (1.8.1)\n",
            "Requirement already satisfied: networkx>=2.1 in /usr/local/lib/python3.10/dist-packages (from dgllife) (3.2.1)\n",
            "Requirement already satisfied: hyperopt in /usr/local/lib/python3.10/dist-packages (from dgllife) (0.2.7)\n",
            "Requirement already satisfied: joblib in /usr/local/lib/python3.10/dist-packages (from dgllife) (1.3.2)\n",
            "Requirement already satisfied: charset-normalizer<4,>=2 in /usr/local/lib/python3.10/dist-packages (from requests>=2.22.0->dgllife) (3.3.2)\n",
            "Requirement already satisfied: idna<4,>=2.5 in /usr/local/lib/python3.10/dist-packages (from requests>=2.22.0->dgllife) (3.6)\n",
            "Requirement already satisfied: urllib3<3,>=1.21.1 in /usr/local/lib/python3.10/dist-packages (from requests>=2.22.0->dgllife) (2.0.7)\n",
            "Requirement already satisfied: certifi>=2017.4.17 in /usr/local/lib/python3.10/dist-packages (from requests>=2.22.0->dgllife) (2024.2.2)\n",
            "Requirement already satisfied: threadpoolctl>=2.0.0 in /usr/local/lib/python3.10/dist-packages (from scikit-learn>=0.22.2->dgllife) (3.2.0)\n",
            "Requirement already satisfied: six in /usr/local/lib/python3.10/dist-packages (from hyperopt->dgllife) (1.16.0)\n",
            "Requirement already satisfied: future in /usr/local/lib/python3.10/dist-packages (from hyperopt->dgllife) (0.18.3)\n",
            "Requirement already satisfied: cloudpickle in /usr/local/lib/python3.10/dist-packages (from hyperopt->dgllife) (2.2.1)\n",
            "Requirement already satisfied: py4j in /usr/local/lib/python3.10/dist-packages (from hyperopt->dgllife) (0.10.9.7)\n",
            "Requirement already satisfied: python-dateutil>=2.8.1 in /usr/local/lib/python3.10/dist-packages (from pandas->dgllife) (2.8.2)\n",
            "Requirement already satisfied: pytz>=2020.1 in /usr/local/lib/python3.10/dist-packages (from pandas->dgllife) (2023.4)\n"
          ]
        }
      ]
    },
    {
      "cell_type": "code",
      "source": [
        "pip install wordcloud"
      ],
      "metadata": {
        "id": "wJ3I0i3GxcmO"
      },
      "execution_count": null,
      "outputs": []
    },
    {
      "cell_type": "code",
      "source": [
        "pip install pandas numpy matplotlib seaborn Levenshtein opencv-python torch keras deepchem"
      ],
      "metadata": {
        "id": "VIPGRW5hxcrK"
      },
      "execution_count": null,
      "outputs": []
    },
    {
      "cell_type": "code",
      "source": [
        "pip install rdkit"
      ],
      "metadata": {
        "id": "sCDWdvqQxcw4"
      },
      "execution_count": null,
      "outputs": []
    },
    {
      "cell_type": "code",
      "source": [
        "pip install wkhtmltopdf"
      ],
      "metadata": {
        "id": "bxF6c53-yKAR"
      },
      "execution_count": null,
      "outputs": []
    },
    {
      "cell_type": "code",
      "source": [
        "pip install torch"
      ],
      "metadata": {
        "colab": {
          "base_uri": "https://localhost:8080/"
        },
        "id": "8c6lqjDxyKJG",
        "outputId": "13ee882e-9667-4a73-b291-e0bd04aeed59"
      },
      "execution_count": 21,
      "outputs": [
        {
          "output_type": "stream",
          "name": "stdout",
          "text": [
            "Requirement already satisfied: torch in /usr/local/lib/python3.10/dist-packages (2.1.0+cu121)\n",
            "Requirement already satisfied: filelock in /usr/local/lib/python3.10/dist-packages (from torch) (3.13.1)\n",
            "Requirement already satisfied: typing-extensions in /usr/local/lib/python3.10/dist-packages (from torch) (4.9.0)\n",
            "Requirement already satisfied: sympy in /usr/local/lib/python3.10/dist-packages (from torch) (1.12)\n",
            "Requirement already satisfied: networkx in /usr/local/lib/python3.10/dist-packages (from torch) (3.2.1)\n",
            "Requirement already satisfied: jinja2 in /usr/local/lib/python3.10/dist-packages (from torch) (3.1.3)\n",
            "Requirement already satisfied: fsspec in /usr/local/lib/python3.10/dist-packages (from torch) (2023.6.0)\n",
            "Requirement already satisfied: triton==2.1.0 in /usr/local/lib/python3.10/dist-packages (from torch) (2.1.0)\n",
            "Requirement already satisfied: MarkupSafe>=2.0 in /usr/local/lib/python3.10/dist-packages (from jinja2->torch) (2.1.5)\n",
            "Requirement already satisfied: mpmath>=0.19 in /usr/local/lib/python3.10/dist-packages (from sympy->torch) (1.3.0)\n"
          ]
        }
      ]
    },
    {
      "cell_type": "code",
      "source": [
        "pip install torchvision"
      ],
      "metadata": {
        "id": "COJqtiCByKSP"
      },
      "execution_count": null,
      "outputs": []
    },
    {
      "cell_type": "code",
      "source": [
        " pip install pdfkit"
      ],
      "metadata": {
        "id": "IG3XCC4PyYdZ"
      },
      "execution_count": null,
      "outputs": []
    },
    {
      "cell_type": "code",
      "source": [
        " pip install ipywidgets"
      ],
      "metadata": {
        "id": "O01e7IJuyYil"
      },
      "execution_count": null,
      "outputs": []
    },
    {
      "cell_type": "code",
      "source": [
        " pip install tensorflow"
      ],
      "metadata": {
        "id": "qRSPKyk5yYoy"
      },
      "execution_count": null,
      "outputs": []
    },
    {
      "cell_type": "code",
      "source": [
        "import os\n",
        "import shutil\n",
        "from tqdm import tqdm\n",
        "import time\n",
        "import re\n",
        "import pandas as pd\n",
        "import logging\n",
        "import deepchem as dc\n",
        "from rdkit import Chem\n",
        "from rdkit.Chem import AllChem, PandasTools, DataStructs\n",
        "from sklearn.metrics import mean_squared_error\n",
        "import seaborn as sns\n",
        "import matplotlib.pyplot as plt\n",
        "import concurrent.futures\n",
        "from datetime import datetime\n",
        "from xml.dom.minidom import parseString\n",
        "from urllib.parse import urlencode\n",
        "from urllib.parse import quote\n",
        "from requests.adapters import HTTPAdapter\n",
        "import requests\n",
        "from urllib3.util.retry import Retry\n",
        "\n",
        "\n",
        "\n",
        "# Initialize logging\n",
        "logging.basicConfig(level=logging.INFO)\n",
        "logger = logging.getLogger()\n",
        "\n",
        "# Initialize requests session with retries\n",
        "session = requests.Session()\n",
        "retries = Retry(total=5, backoff_factor=1, status_forcelist=[502, 503, 504])\n",
        "session.mount('https://', HTTPAdapter(max_retries=retries))\n",
        "\n",
        "# Assuming each compound starts with a 'CHEMBL' ID\n",
        "COMPOUND_START_MARKER = r'^CHEMBL\\d+'\n",
        "\n",
        "# List to hold SMILES strings\n",
        "smiles_list = []\n",
        "\n",
        "def pass_data_downstream(smiles_string):\n",
        "    logger.info(\"Passing data downstream: %s\", smiles_string)\n",
        "    smiles_list.append(smiles_string)\n",
        "\n",
        "def read_compounds_from_file(file_path):\n",
        "    with open(file_path, 'r') as file:\n",
        "        for line in tqdm(file, desc=\"Reading compounds\"):\n",
        "            if re.match(COMPOUND_START_MARKER, line):\n",
        "                parts = line.strip().split('\\t')\n",
        "                if len(parts) > 1:\n",
        "                    yield parts[1]\n",
        "\n",
        "def create_dataset(smiles):\n",
        "    featurizer = dc.feat.MolGraphConvFeaturizer()\n",
        "    features = featurizer.featurize(smiles)\n",
        "    return dc.data.NumpyDataset(X=features)\n",
        "\n",
        "def main():\n",
        "    src_dir = '/Users/julianreyes/Downloads/drug_discovery_datasets'\n",
        "    src_file_name = \"chembl_33_chemreps.txt\"\n",
        "    src_path = os.path.join(src_dir, src_file_name)\n",
        "\n",
        "    if not os.path.exists(src_path):\n",
        "        logger.error(\"Source file %s not found.\", src_path)\n",
        "        return None\n",
        "\n",
        "    try:\n",
        "        for smiles_string in read_compounds_from_file(src_path):\n",
        "            pass_data_downstream(smiles_string)\n",
        "        dataset = create_dataset(smiles_list)\n",
        "        return dataset\n",
        "    except Exception as e:\n",
        "        logger.error(\"An error occurred: %s\", e)\n",
        "        return None\n",
        "\n",
        "# GCN Model training and evaluation\n",
        "def train_gcn_model(dataset, nb_epoch=50):\n",
        "    model = dc.models.GCNModel(mode='regression', n_tasks=1, batch_size=16, learning_rate=0.001)\n",
        "    logger.info(\"Training the model...\")\n",
        "    for epoch in range(nb_epoch):\n",
        "        loss = model.fit(dataset, nb_epoch=1)\n",
        "        logger.info(f\"Epoch {epoch+1}/{nb_epoch}, Loss: {loss}\")\n",
        "    return model\n",
        "\n",
        "def evaluate_model(model, dataset):\n",
        "    predicted = model.predict(dataset)\n",
        "    mse = mean_squared_error(dataset.y, predicted)\n",
        "    logger.info(f\"Test MSE: {mse}\")\n",
        "    return mse\n",
        "\n",
        "def save_model(model, model_path='your_custom_model.ckpt'):\n",
        "    logger.info(\"Saving the trained model checkpoint...\")\n",
        "    model.save_checkpoint(model_path)\n",
        "\n",
        "if __name__ == \"__main__\":\n",
        "    dataset = main()\n",
        "    if dataset:\n",
        "        model = train_gcn_model(dataset)\n",
        "        mse = evaluate_model(model, dataset)\n",
        "        save_model(model)\n",
        "\n",
        "        # Now let's predict on new data using the trained model\n",
        "        chembl_data = [\n",
        "            {\"molecule_chembl_id\": \"CHEMBL3545182\", \"smiles\": \"O=C1NC(=O)C2=C(N1)C=CC=C2\"},\n",
        "            {\"molecule_chembl_id\": \"CHEMBL3544956\", \"smiles\": \"CC1=CC=C(C=C1)NC(=O)C2=CN=CC=C2\"}\n",
        "        ]\n",
        "        chembl_df = pd.DataFrame(chembl_data)\n",
        "        PandasTools.AddMoleculeColumnToFrame(chembl_df, smilesCol='smiles')\n",
        "\n",
        "        # Featurize the ChemBL data\n",
        "        chembl_features = create_dataset([d['smiles'] for d in chembl_data])\n",
        "\n",
        "        # Predict with your model on the ChemBL data\n",
        "        chembl_predictions = model.predict(chembl_features)\n",
        "        for idx, pred in enumerate(chembl_predictions):\n",
        "            logger.info(f\"{chembl_df.iloc[idx]['molecule_chembl_id']}: Predicted Value - {pred[0]}\")\n",
        "\n"
      ],
      "metadata": {
        "colab": {
          "base_uri": "https://localhost:8080/"
        },
        "id": "v9LGlNrwyvmV",
        "outputId": "821a62f7-2b1b-4059-f3e5-4a745aa5312f"
      },
      "execution_count": 26,
      "outputs": [
        {
          "output_type": "stream",
          "name": "stderr",
          "text": [
            "WARNING:tensorflow:From /usr/local/lib/python3.10/dist-packages/tensorflow/python/util/deprecation.py:588: calling function (from tensorflow.python.eager.polymorphic_function.polymorphic_function) with experimental_relax_shapes is deprecated and will be removed in a future version.\n",
            "Instructions for updating:\n",
            "experimental_relax_shapes is deprecated, use reduce_retracing instead\n",
            "ERROR:root:Source file /Users/julianreyes/Downloads/drug_discovery_datasets/chembl_33_chemreps.txt not found.\n"
          ]
        }
      ]
    },
    {
      "source": [
        "!pip show requests_futures"
      ],
      "cell_type": "code",
      "metadata": {
        "colab": {
          "base_uri": "https://localhost:8080/"
        },
        "id": "BVAR7lRZX1wC",
        "outputId": "afe46820-6521-4205-b42c-754b237b48ed"
      },
      "execution_count": null,
      "outputs": [
        {
          "output_type": "stream",
          "name": "stdout",
          "text": [
            "Name: requests-futures\n",
            "Version: 1.0.1\n",
            "Summary: Asynchronous Python HTTP for Humans.\n",
            "Home-page: https://github.com/ross/requests-futures\n",
            "Author: Ross McFarland\n",
            "Author-email: rwmcfa1@rwmcfa1.com\n",
            "License: Apache License v2\n",
            "Location: /usr/local/lib/python3.10/dist-packages\n",
            "Requires: requests\n",
            "Required-by: \n"
          ]
        }
      ]
    },
    {
      "source": [
        "import os\n",
        "os.kill(os.getpid(), 9)"
      ],
      "cell_type": "code",
      "metadata": {
        "id": "onrO48zrX7Xn"
      },
      "execution_count": null,
      "outputs": []
    }
  ]
}